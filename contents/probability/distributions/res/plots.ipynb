{
 "cells": [
  {
   "cell_type": "code",
   "execution_count": null,
   "metadata": {},
   "outputs": [],
   "source": [
    "import numpy as np\n",
    "import matplotlib.pyplot as pp\n",
    "%matplotlib widget\n",
    "\n",
    "pp.rcParams.update({\n",
    "    \"text.usetex\": True,\n",
    "})\n"
   ]
  },
  {
   "cell_type": "markdown",
   "metadata": {},
   "source": [
    "# Discrete double die"
   ]
  },
  {
   "cell_type": "code",
   "execution_count": null,
   "metadata": {},
   "outputs": [],
   "source": [
    "fn = [min(n-1, 13-n) for n in range(2,13)]\n",
    "sum(fn)"
   ]
  },
  {
   "cell_type": "code",
   "execution_count": null,
   "metadata": {},
   "outputs": [],
   "source": [
    "fig,ax = pp.subplots()\n",
    "ax.bar(range(2,13),fn)\n"
   ]
  },
  {
   "cell_type": "code",
   "execution_count": null,
   "metadata": {},
   "outputs": [],
   "source": [
    "ax.set_xlabel(\"$n$\", fontsize=16)\n",
    "ax.set_ylabel(\"$f(n)$\", fontsize=16)\n",
    "pp.xticks(fontsize=12)\n",
    "pp.yticks(fontsize=12)\n",
    "\n",
    "ax.set_title(\"Frequency distribution of a double die roll\", fontsize=18)"
   ]
  },
  {
   "cell_type": "code",
   "execution_count": null,
   "metadata": {},
   "outputs": [],
   "source": [
    "fig.savefig(\"./double_die_frequencies.png\", dpi=600)"
   ]
  },
  {
   "cell_type": "markdown",
   "metadata": {},
   "source": [
    "# Continuous Gaussian"
   ]
  },
  {
   "cell_type": "code",
   "execution_count": null,
   "metadata": {},
   "outputs": [],
   "source": [
    "gauss = lambda x: np.exp(-x**2)/np.sqrt(np.pi)\n",
    "\n",
    "x = np.linspace(-3, 3, 1000)\n",
    "x0 = -0.6\n",
    "dx = 0.3\n",
    "sliver = np.linspace(x0,x0+dx)\n",
    "\n",
    "fig, ax = pp.subplots()\n",
    "fig.set_size_inches(9.6, 4.8)\n",
    "\n",
    "ax.plot(x, gauss(x))\n",
    "ax.fill_between(sliver, gauss(sliver), color='g', alpha=0.4)"
   ]
  },
  {
   "cell_type": "code",
   "execution_count": null,
   "metadata": {},
   "outputs": [],
   "source": [
    "ax.set_xlabel(\"$x$\", fontsize=18)\n",
    "ax.set_ylabel(\"$P(x)$\", fontsize=18)\n",
    "pp.xticks(fontsize=12)\n",
    "pp.yticks(fontsize=12)\n",
    "pp.tick_params(\n",
    "    axis='both',          # changes apply to the x-axis\n",
    "    which='both',      # both major and minor ticks are affected\n",
    "    bottom=False,      # ticks along the bottom edge are off\n",
    "    top=False,         # ticks along the top edge are off\n",
    "    left=False,\n",
    "    right=False,\n",
    "    labelbottom=False,\n",
    "    labelleft=False\n",
    ") # labels along the bottom edge are off\n",
    "ax.set_ylim(0,0.6)\n",
    "\n",
    "arrow = ax.annotate(text='', xy=(x0,0.2), xytext=(x0+dx,0.2), arrowprops=dict(arrowstyle='<->'))\n",
    "dx_text = ax.annotate(text=\"$dx$\", xy=( x0+0.5*dx,0.22), xytext=(x0+0.5*dx,0.22), ha=\"center\", fontsize=16)\n",
    "\n",
    "x0_text = ax.annotate(text=\"$x_0$\",xy=(x0,0), xytext=(x0,-0.06), \n",
    "                      arrowprops=dict(headlength=0.1,headwidth=0.1, width=0.1), \n",
    "                    \n",
    "                      annotation_clip=False,\n",
    "                      ha='center',\n",
    "                      fontsize=16\n",
    "                     )\n",
    "ax.set_title(\"Probability Density\", fontsize=18)"
   ]
  },
  {
   "cell_type": "code",
   "execution_count": null,
   "metadata": {},
   "outputs": [],
   "source": [
    "fig.savefig(\"./normal_distribution.png\", dpi=600)"
   ]
  }
 ],
 "metadata": {
  "kernelspec": {
   "display_name": "Python 3",
   "language": "python",
   "name": "python3"
  },
  "language_info": {
   "codemirror_mode": {
    "name": "ipython",
    "version": 3
   },
   "file_extension": ".py",
   "mimetype": "text/x-python",
   "name": "python",
   "nbconvert_exporter": "python",
   "pygments_lexer": "ipython3",
   "version": "3.7.10"
  }
 },
 "nbformat": 4,
 "nbformat_minor": 4
}
