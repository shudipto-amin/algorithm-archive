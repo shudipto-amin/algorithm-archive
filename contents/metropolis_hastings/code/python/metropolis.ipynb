{
 "cells": [
  {
   "cell_type": "code",
   "execution_count": null,
   "metadata": {},
   "outputs": [],
   "source": [
    "import numpy as np\n",
    "import matplotlib.pyplot as pp\n",
    "import importlib\n",
    "import metropolis as met\n",
    "%matplotlib widget\n",
    "\n",
    "from matplotlib import animation, rc\n",
    "from IPython.display import HTML, Image\n",
    "pp.rcParams.update({\n",
    "    \"text.usetex\": True,\n",
    "})\n"
   ]
  },
  {
   "cell_type": "code",
   "execution_count": null,
   "metadata": {},
   "outputs": [],
   "source": [
    "importlib.reload(met)"
   ]
  },
  {
   "cell_type": "markdown",
   "metadata": {
    "jp-MarkdownHeadingCollapsed": true,
    "tags": []
   },
   "source": [
    "# Test output of `metropolis.py`"
   ]
  },
  {
   "cell_type": "code",
   "execution_count": null,
   "metadata": {},
   "outputs": [],
   "source": [
    "x_dat = np.loadtxt('output.dat')\n",
    "fig, ax = pp.subplots()\n",
    "\n",
    "xx = np.linspace(-7,7,1000)\n",
    "ax.plot(xx, met.f(xx)/np.trapz(met.f(xx),x=xx), \n",
    "        color='k', linewidth=2, alpha=0.5,\n",
    "        label=\"$P(x)$\"\n",
    "\n",
    "       )\n",
    "\n",
    "x_dat = np.array(x_dat)\n",
    "#ax2 = ax.twinx(sharey=True)\n",
    "bins = np.arange(-7,7.1, 0.25)\n",
    "ax.hist(x_dat,  bins=bins, \n",
    "        density=True,\n",
    "        histtype='step',\n",
    "        alpha=1,\n",
    "        linewidth = 2,\n",
    "        label=f\"N = {Ns[n]}\"\n",
    "       )"
   ]
  },
  {
   "cell_type": "markdown",
   "metadata": {
    "tags": []
   },
   "source": [
    "# First generate Data"
   ]
  },
  {
   "cell_type": "code",
   "execution_count": null,
   "metadata": {},
   "outputs": [],
   "source": [
    "\n",
    "xmin, xmax = -7, 7\n",
    "x0 = np.random.uniform(xmin/2, xmax/2)\n",
    "x_dat1 = [x0]\n",
    "x_dat2 = [x0]\n",
    "x_dat3 = [x0]\n",
    "x_dat_anim = [0]\n",
    "\n",
    "Ns = [5_00, 5_000, 50_000, 5_000]\n",
    "for n,x_dat in enumerate((x_dat1, x_dat2, x_dat3, x_dat_anim)):\n",
    "    N = Ns[n]\n",
    "    x = x_dat[0]\n",
    "    for n in range(N):\n",
    "        x = met.iterate(x)\n",
    "        x_dat.append(x)"
   ]
  },
  {
   "cell_type": "markdown",
   "metadata": {
    "jp-MarkdownHeadingCollapsed": true,
    "tags": []
   },
   "source": [
    "# Plot all histograms with P(x)"
   ]
  },
  {
   "cell_type": "code",
   "execution_count": null,
   "metadata": {},
   "outputs": [],
   "source": [
    "\n",
    "fig, ax = pp.subplots()\n",
    "\n",
    "xx = np.linspace(xmin, xmax, 1000)\n",
    "ax.plot(xx, met.f(xx)/np.trapz(met.f(xx),x=xx), \n",
    "        color='k', linewidth=2, alpha=0.5,\n",
    "        label=\"$P(x)$\"\n",
    "\n",
    "       )\n",
    "bins = np.arange(xmin, xmax + 0.1, 0.25)\n",
    "\n",
    "for n,x_dat in enumerate((x_dat1, x_dat2, x_dat3)):\n",
    "    x_dat = np.array(x_dat)\n",
    "    #ax2 = ax.twinx(sharey=True)\n",
    "    \n",
    "    ax.hist(x_dat,  bins=bins, \n",
    "            density=True,\n",
    "            histtype='step',\n",
    "            alpha=1,\n",
    "            linewidth = 2,\n",
    "            label=f\"N = {Ns[n]}\"\n",
    "           )\n",
    "    \n",
    "ax.legend(fontsize=12)\n",
    "ax.set_xlabel(\"$x$\", fontsize=16)\n",
    "ax.set_ylabel(\"Density\", fontsize=16)\n",
    "pp.xticks(fontsize=12)\n",
    "pp.yticks(fontsize=12)"
   ]
  },
  {
   "cell_type": "code",
   "execution_count": null,
   "metadata": {},
   "outputs": [],
   "source": [
    "fig.savefig(\"../../res/multiple_histograms.png\", dpi=600)"
   ]
  },
  {
   "cell_type": "markdown",
   "metadata": {
    "jp-MarkdownHeadingCollapsed": true,
    "tags": []
   },
   "source": [
    "# Plot just the P(x)"
   ]
  },
  {
   "cell_type": "code",
   "execution_count": null,
   "metadata": {},
   "outputs": [],
   "source": [
    "fig, ax = pp.subplots()\n",
    "\n",
    "xx = np.linspace(-7,7,1000)\n",
    "ax.plot(xx, met.f(xx)/np.trapz(met.f(xx),x=xx), \n",
    "        color='k', linewidth=2, alpha=0.5,\n",
    "       )\n",
    "\n",
    "ax.set_xlabel(\"$x$\", fontsize=16)\n",
    "ax.set_ylabel(\"$P(x)$\", fontsize=16)\n",
    "\n",
    "ax.set_ylim(0,0.5)\n",
    "pp.xticks(fontsize=12)\n",
    "pp.yticks(fontsize=12)\n"
   ]
  },
  {
   "cell_type": "code",
   "execution_count": null,
   "metadata": {},
   "outputs": [],
   "source": [
    "fig.savefig(\"../../res/plot_of_P.png\", dpi=600)"
   ]
  },
  {
   "cell_type": "markdown",
   "metadata": {},
   "source": [
    "# Animate the histogram"
   ]
  },
  {
   "cell_type": "code",
   "execution_count": null,
   "metadata": {},
   "outputs": [],
   "source": [
    "#x_dat = x_dat_anim\n",
    "x_dat = np.loadtxt(\"good_5000pt_sample.dat\")\n",
    "\n",
    "rc('animation', html='html5')\n",
    "class G():\n",
    "    pass\n",
    "\n",
    "bins = np.arange(xmin, xmax + 0.1, 0.25)\n",
    "heights, edges = np.histogram(x_dat, bins=bins)\n",
    "norm = sum(heights)*0.25\n",
    "widths = np.diff(edges)\n",
    "centers = edges[:-1] + 0.5*widths\n",
    "\n",
    "\n",
    "heights = heights*0\n",
    "G.heights = heights\n",
    "density = heights/norm\n",
    "\n",
    "\n",
    "def init():\n",
    "    return (bars,)\n",
    "    for bar in bars:\n",
    "        bar.set_height(0)\n",
    "    return (bars,)\n",
    "\n",
    "def animate(i):\n",
    "    x = x_dat[i]\n",
    "    h, _, = np.histogram(x, bins=bins)\n",
    "    G.heights += h\n",
    "    density = heights/norm\n",
    "    for n,bar in enumerate(bars):\n",
    "        bar.set_height(density[n])\n",
    "    \n",
    "    scatters.set_offsets([x,0])\n",
    "        \n",
    "    return (bars,)"
   ]
  },
  {
   "cell_type": "code",
   "execution_count": null,
   "metadata": {},
   "outputs": [],
   "source": [
    "fig, ax = pp.subplots()\n",
    "\n",
    "ax.set_xlim((xmin, xmax))\n",
    "ax.set_ylim((0, 0.5))\n",
    "\n",
    "ax.set_xlabel(\"$x$\", fontsize=16)\n",
    "ax.set_ylabel(\"$P(x)$\", fontsize=16)\n",
    "\n",
    "pp.xticks(fontsize=12)\n",
    "pp.yticks(fontsize=12)\n",
    "\n",
    "xx = np.linspace(xmin, xmax, 1000)\n",
    "ax.plot(xx, met.f(xx)/np.trapz(met.f(xx),x=xx), \n",
    "        color='k', linewidth=2, alpha=0.5,\n",
    "        label=\"$P(x)$\"\n",
    "\n",
    "       )\n",
    "\n",
    "bars = ax.bar(centers, density, width = widths)\n",
    "scatters = ax.scatter([0],[0], s=80, edgecolors=['k'] )\n",
    "\n",
    "scatters.set_clip_on(False)\n",
    "ax.xaxis.set_zorder(0)\n",
    "scatters.set_zorder(10)\n",
    "#ax.set_axisbelow(True)"
   ]
  },
  {
   "cell_type": "code",
   "execution_count": null,
   "metadata": {},
   "outputs": [],
   "source": [
    "#### SAVE new data if you don't like the old one\n",
    "#np.savetxt(\"good_5000pt_sample.dat\",x_dat)"
   ]
  },
  {
   "cell_type": "code",
   "execution_count": null,
   "metadata": {},
   "outputs": [],
   "source": [
    "anim = animation.FuncAnimation(\n",
    "    fig, animate, init_func=init, frames=len(x_dat), interval=0.5, blit=True)"
   ]
  },
  {
   "cell_type": "code",
   "execution_count": null,
   "metadata": {},
   "outputs": [],
   "source": [
    "Writer = animation.writers['ffmpeg']\n",
    "writer = Writer(fps=60, metadata=dict(artist='K.Shudipto Amin'))\n",
    "\n",
    "anim.save('../../res/animated_metropolis.mp4', writer=writer)"
   ]
  },
  {
   "cell_type": "code",
   "execution_count": null,
   "metadata": {},
   "outputs": [],
   "source": [
    "pp.rcParams[\"animation.codec\"]"
   ]
  }
 ],
 "metadata": {
  "kernelspec": {
   "display_name": "Python 3",
   "language": "python",
   "name": "python3"
  },
  "language_info": {
   "codemirror_mode": {
    "name": "ipython",
    "version": 3
   },
   "file_extension": ".py",
   "mimetype": "text/x-python",
   "name": "python",
   "nbconvert_exporter": "python",
   "pygments_lexer": "ipython3",
   "version": "3.7.10"
  }
 },
 "nbformat": 4,
 "nbformat_minor": 4
}
