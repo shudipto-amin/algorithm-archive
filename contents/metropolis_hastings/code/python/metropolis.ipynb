{
 "cells": [
  {
   "cell_type": "code",
   "execution_count": null,
   "metadata": {},
   "outputs": [],
   "source": [
    "import numpy as np\n",
    "import matplotlib.pyplot as pp\n",
    "import importlib\n",
    "import metropolis as met\n",
    "%matplotlib widget\n",
    "\n",
    "pp.rcParams.update({\n",
    "    \"text.usetex\": True,\n",
    "})\n"
   ]
  },
  {
   "cell_type": "code",
   "execution_count": null,
   "metadata": {},
   "outputs": [],
   "source": [
    "importlib.reload(met)"
   ]
  },
  {
   "cell_type": "code",
   "execution_count": null,
   "metadata": {},
   "outputs": [],
   "source": [
    "\n",
    "xmin, xmax = -10, 10\n",
    "x0 = np.random.uniform(xmin, xmax)\n",
    "x_dat1 = [x0]\n",
    "x_dat2 = [x0]\n",
    "x_dat3 = [x0]\n",
    "\n",
    "Ns = [5_00, 5_000, 50_000]\n",
    "for n,x_dat in enumerate((x_dat1, x_dat2, x_dat3)):\n",
    "    N = Ns[n]\n",
    "    x = x_dat[0]\n",
    "    for n in range(N):\n",
    "        x = met.iterate(x)\n",
    "        x_dat.append(x)"
   ]
  },
  {
   "cell_type": "code",
   "execution_count": null,
   "metadata": {},
   "outputs": [],
   "source": [
    "\n",
    "fig, ax = pp.subplots()\n",
    "\n",
    "xx = np.linspace(-7,7,1000)\n",
    "ax.plot(xx, met.f(xx)/np.trapz(met.f(xx),x=xx), \n",
    "        color='k', linewidth=2, alpha=0.5,\n",
    "        label=\"$P(x)$\"\n",
    "\n",
    "       )\n",
    "\n",
    "\n",
    "for n,x_dat in enumerate((x_dat1, x_dat2, x_dat3)):\n",
    "    x_dat = np.array(x_dat)\n",
    "    #ax2 = ax.twinx(sharey=True)\n",
    "    bins = np.arange(-7,7.1, 0.25)\n",
    "    ax.hist(x_dat,  bins=bins, \n",
    "            density=True,\n",
    "            histtype='step',\n",
    "            alpha=1,\n",
    "            linewidth = 2,\n",
    "            label=f\"N = {Ns[n]}\"\n",
    "           )\n",
    "    \n",
    "ax.legend(fontsize=12)\n",
    "ax.set_xlabel(\"$x$\", fontsize=16)\n",
    "ax.set_ylabel(\"Density\", fontsize=16)\n",
    "pp.xticks(fontsize=12)\n",
    "pp.yticks(fontsize=12)"
   ]
  },
  {
   "cell_type": "code",
   "execution_count": null,
   "metadata": {},
   "outputs": [],
   "source": [
    "fig.savefig(\"../../res/multiple_histograms.png\", dpi=600)"
   ]
  },
  {
   "cell_type": "markdown",
   "metadata": {},
   "source": [
    "# Test output of `metropolis.py`"
   ]
  },
  {
   "cell_type": "code",
   "execution_count": null,
   "metadata": {},
   "outputs": [],
   "source": [
    "x_dat = np.loadtxt('output.dat')\n",
    "fig, ax = pp.subplots()\n",
    "\n",
    "xx = np.linspace(-7,7,1000)\n",
    "ax.plot(xx, met.f(xx)/np.trapz(met.f(xx),x=xx), \n",
    "        color='k', linewidth=2, alpha=0.5,\n",
    "        label=\"$P(x)$\"\n",
    "\n",
    "       )\n",
    "\n",
    "x_dat = np.array(x_dat)\n",
    "#ax2 = ax.twinx(sharey=True)\n",
    "bins = np.arange(-7,7.1, 0.25)\n",
    "ax.hist(x_dat,  bins=bins, \n",
    "        density=True,\n",
    "        histtype='step',\n",
    "        alpha=1,\n",
    "        linewidth = 2,\n",
    "        label=f\"N = {Ns[n]}\"\n",
    "       )"
   ]
  },
  {
   "cell_type": "markdown",
   "metadata": {},
   "source": [
    "# Plot just the P(x)"
   ]
  },
  {
   "cell_type": "code",
   "execution_count": null,
   "metadata": {},
   "outputs": [],
   "source": [
    "fig, ax = pp.subplots()\n",
    "\n",
    "xx = np.linspace(-7,7,1000)\n",
    "ax.plot(xx, met.f(xx)/np.trapz(met.f(xx),x=xx), \n",
    "        color='k', linewidth=2, alpha=0.5,\n",
    "       )\n",
    "\n",
    "ax.set_xlabel(\"$x$\", fontsize=16)\n",
    "ax.set_ylabel(\"$P(x)$\", fontsize=16)\n",
    "pp.xticks(fontsize=12)\n",
    "pp.yticks(fontsize=12)"
   ]
  },
  {
   "cell_type": "code",
   "execution_count": null,
   "metadata": {},
   "outputs": [],
   "source": [
    "fig.savefig(\"../../res/plot_of_P.png\", dpi=600)"
   ]
  }
 ],
 "metadata": {
  "kernelspec": {
   "display_name": "Python 3",
   "language": "python",
   "name": "python3"
  },
  "language_info": {
   "codemirror_mode": {
    "name": "ipython",
    "version": 3
   },
   "file_extension": ".py",
   "mimetype": "text/x-python",
   "name": "python",
   "nbconvert_exporter": "python",
   "pygments_lexer": "ipython3",
   "version": "3.7.10"
  }
 },
 "nbformat": 4,
 "nbformat_minor": 4
}
